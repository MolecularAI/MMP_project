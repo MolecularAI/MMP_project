{
 "cells": [
  {
   "cell_type": "markdown",
   "metadata": {},
   "source": [
    "# Pool-downsample-split"
   ]
  },
  {
   "cell_type": "markdown",
   "metadata": {},
   "source": [
    "This code merges/pools train and test datasets, takes 10% sample of the pooled data, and splits the downsampled dataset into train and test datasets using 80-20 split."
   ]
  },
  {
   "cell_type": "code",
   "execution_count": null,
   "metadata": {},
   "outputs": [],
   "source": [
    "import os\n",
    "import pandas as pd\n",
    "\n",
    "# Load code for Splitting.\n",
    "%run splitter.py"
   ]
  },
  {
   "cell_type": "code",
   "execution_count": null,
   "metadata": {},
   "outputs": [],
   "source": [
    "def pool_sets(train_set_path, test_set_path):\n",
    "    return pd.concat([pd.read_csv(train_set_path), pd.read_csv(test_set_path)])\n",
    "\n",
    "def sample_stratified(df_all, frac):\n",
    "    spl = Splitter(dataframe=df_all, obsCol=\"SMILES\", respCol=\"VALUE\", mode=\"regression\")\n",
    "    _, sampled = spl.split_stratified(fraction=frac)\n",
    "    return sampled\n",
    "\n",
    "def split_stratified(df, frac):\n",
    "    spl = Splitter(dataframe=df, obsCol=\"SMILES\", respCol=\"VALUE\", mode=\"regression\")\n",
    "    return spl.split_stratified(fraction=frac)\n",
    "\n",
    "def pool_sample_split(train_set_path, test_set_path, setname, output_dir=\"../downsampled-10-percent\"):\n",
    "    pooled = pool_sets(train_set_path, test_set_path)\n",
    "    sampled = sample_stratified(pooled, frac=0.1)\n",
    "    train_set, test_set = split_stratified(sampled, frac=0.2)\n",
    "    train_set.to_csv(path_or_buf=os.path.join(output_dir, \"\".join([setname, \"_train.csv\"])), index=False)\n",
    "    test_set.to_csv(path_or_buf=os.path.join(output_dir, \"\".join([setname, \"_test.csv\"])), index=False)\n",
    "    with open(os.path.join(output_dir, \"\".join([setname, \"_splitting.log\"])), 'w') as f:\n",
    "        f.write(f\"Obs. pooled: {len(pooled)}\\n\")\n",
    "        f.write(f\"Obs. sampled stratified (10%): {len(sampled)}\\n\")\n",
    "        f.write(f\"Obs. train (10%): {len(train_set)}\\n\")\n",
    "        f.write(f\"Obs. test (10%): {len(test_set)}\\n\")"
   ]
  },
  {
   "cell_type": "code",
   "execution_count": null,
   "metadata": {},
   "outputs": [],
   "source": [
    "# Run downsampling and splitting.\n",
    "\n",
    "pool_sample_split(\"../data/Clearance_set1_train.csv\", \"../data/Clearance_set1_test.csv\", \"Clearance_set1\")\n",
    "pool_sample_split(\"../data/Clearance_set2_train.csv\", \"../data/Clearance_set2_test.csv\", \"Clearance_set2\")\n",
    "pool_sample_split(\"../data/Clearance_set3_train.csv\", \"../data/Clearance_set3_test.csv\", \"Clearance_set3\")\n",
    "pool_sample_split(\"../data/Clearance_set4_train.csv\", \"../data/Clearance_set4_test.csv\", \"Clearance_set4\")\n",
    "\n",
    "pool_sample_split(\"../data/Permeability_set1_train.csv\", \"../data/Permeability_set1_test.csv\", \"Permeability_set1\")\n",
    "pool_sample_split(\"../data/Permeability_set2_train.csv\", \"../data/Permeability_set2_test.csv\", \"Permeability_set2\")\n",
    "pool_sample_split(\"../data/Permeability_set3_train.csv\", \"../data/Permeability_set3_test.csv\", \"Permeability_set3\")\n",
    "pool_sample_split(\"../data/Permeability_set4_train.csv\", \"../data/Permeability_set4_test.csv\", \"Permeability_set4\")\n",
    "\n",
    "pool_sample_split(\"../data/Solubility_set1_train.csv\", \"../data/Solubility_set1_test.csv\", \"Solubility_set1\")\n",
    "pool_sample_split(\"../data/Solubility_set2_train.csv\", \"../data/Solubility_set2_test.csv\", \"Solubility_set2\")\n",
    "pool_sample_split(\"../data/Solubility_set3_train.csv\", \"../data/Solubility_set3_test.csv\", \"Solubility_set3\")\n",
    "pool_sample_split(\"../data/Solubility_set4_train.csv\", \"../data/Solubility_set4_test.csv\", \"Solubility_set4\")\n",
    "\n",
    "pool_sample_split(\"../data/logD_set1_train.csv\", \"../data/logD_set1_test.csv\", \"logD_set1\")\n",
    "pool_sample_split(\"../data/logD_set2_train.csv\", \"../data/logD_set2_test.csv\", \"logD_set2\")\n",
    "pool_sample_split(\"../data/logD_set3_train.csv\", \"../data/logD_set3_test.csv\", \"logD_set3\")\n",
    "pool_sample_split(\"../data/logD_set4_train.csv\", \"../data/logD_set4_test.csv\", \"logD_set4\")"
   ]
  }
 ],
 "metadata": {
  "kernelspec": {
   "display_name": "Python 3 (ipykernel)",
   "language": "python",
   "name": "python3"
  },
  "language_info": {
   "codemirror_mode": {
    "name": "ipython",
    "version": 3
   },
   "file_extension": ".py",
   "mimetype": "text/x-python",
   "name": "python",
   "nbconvert_exporter": "python",
   "pygments_lexer": "ipython3",
   "version": "3.7.12"
  }
 },
 "nbformat": 4,
 "nbformat_minor": 2
}
