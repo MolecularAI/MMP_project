{
 "cells": [
  {
   "cell_type": "markdown",
   "metadata": {},
   "source": [
    "# Random Splitting for MMPs"
   ]
  },
  {
   "cell_type": "code",
   "execution_count": null,
   "metadata": {},
   "outputs": [],
   "source": [
    "import pandas as pd\n",
    "import numpy as np\n",
    "import random\n",
    "\n",
    "from rdkit.Chem import PandasTools\n",
    "from rdkit import Chem\n",
    "\n",
    "# load code from the \"Optuna_AZ\" package that comes in handy here\n",
    "%run splitter.py"
   ]
  },
  {
   "cell_type": "code",
   "execution_count": null,
   "metadata": {},
   "outputs": [],
   "source": [
    "my_path = '../data-initial/'\n",
    "outpath = '../data/'"
   ]
  },
  {
   "cell_type": "code",
   "execution_count": null,
   "metadata": {},
   "outputs": [],
   "source": [
    "name_dict = {\n",
    "    'logD': 'ST000_logD',\n",
    "    'Solubility': 'ST000_Solubility',\n",
    "    'Permeability': 'ST000_Permeability',\n",
    "    'Clearance': 'ST000_Clearance_hMics'\n",
    "}"
   ]
  },
  {
   "cell_type": "code",
   "execution_count": null,
   "metadata": {},
   "outputs": [],
   "source": [
    "def splitting(df, outpath, name, obsCol=\"SMILES\", respCol=\"VALUE\", fraction=0.2):\n",
    "    \n",
    "    # initialize the splitter\n",
    "    spl = Splitter(dataframe=df,obsCol=obsCol,respCol=respCol,mode=\"regression\")\n",
    "    \n",
    "    # make a random split\n",
    "    train_ran, test_ran = spl.split_randomly(fraction=fraction)\n",
    "    print(\"Train (random):\", len(train_ran))\n",
    "    print(\"Test (random):\", len(test_ran))\n",
    "    \n",
    "    # save training and test sets\n",
    "    train_ran.to_csv(outpath + name + '_train.csv', index=False)\n",
    "    test_ran.to_csv(outpath + name + '_test.csv', index=False)\n"
   ]
  },
  {
   "cell_type": "code",
   "execution_count": null,
   "metadata": {
    "scrolled": true
   },
   "outputs": [],
   "source": [
    "for name in name_dict:\n",
    "    print ('\\n\\n--->: ', name)\n",
    "    \n",
    "    # data set 1\n",
    "    print ('\\n---all cpds')\n",
    "    df_1 = pd.read_csv(my_path + name_dict[name] + '_naa_allData.csv', \n",
    "                       usecols = ['SMILES','VALUE'])\n",
    "    splitting(df_1, outpath, name + '_set1')\n",
    "    \n",
    "    # data set 2\n",
    "    print ('\\n---all additive cpds')\n",
    "    df_2 = pd.read_csv(my_path + name_dict[name] + '_naa_additive.csv',\n",
    "                       usecols = ['SMILES','VALUE'])\n",
    "    splitting(df_2, outpath, name + '_set2')\n",
    "    \n",
    "    # data set 3\n",
    "    print ('\\n---all mmp cpds')\n",
    "    df_3 = pd.read_csv(my_path + name_dict[name] + '_mmp_all.csv', \n",
    "                       usecols = ['SMILES','VALUE'])\n",
    "    splitting(df_3, outpath, name + '_set3')\n",
    "    \n",
    "    # data set 4\n",
    "    print ('\\n---all NA mmp cpds')\n",
    "    df_4 = pd.read_csv(my_path + name_dict[name] + '_mmp_NA.csv', \n",
    "                       usecols = ['SMILES','VALUE'])\n",
    "    splitting(df_4, outpath, name + '_set4')\n",
    "    "
   ]
  }
 ],
 "metadata": {
  "kernelspec": {
   "display_name": "Python 3 (ipykernel)",
   "language": "python",
   "name": "python3"
  },
  "language_info": {
   "codemirror_mode": {
    "name": "ipython",
    "version": 3
   },
   "file_extension": ".py",
   "mimetype": "text/x-python",
   "name": "python",
   "nbconvert_exporter": "python",
   "pygments_lexer": "ipython3",
   "version": "3.7.12"
  }
 },
 "nbformat": 4,
 "nbformat_minor": 2
}
