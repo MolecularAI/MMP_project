{
 "cells": [
  {
   "cell_type": "code",
   "execution_count": null,
   "id": "10c8de36",
   "metadata": {},
   "outputs": [],
   "source": [
    "def generate_sh(study_name):\n",
    "    path = f\"../fill-gaps-configs/{study_name}-fill-gaps.sh\"\n",
    "    script = f\"\"\"#!/bin/sh\n",
    "#SBATCH --nodes=1\n",
    "#SBATCH --ntasks=1\n",
    "#SBATCH --cpus-per-task=8\n",
    "#SBATCH --mem-per-cpu=4G\n",
    "#SBATCH --time=300:0:0\n",
    "#SBATCH --output={study_name}.out\n",
    "#SBATCH --error={study_name}.err\n",
    "\n",
    "qptuna-build --config {study_name}-fill-gaps.json --best-model-outpath ../best-models/best-{study_name}.pkl\n",
    "\"\"\"\n",
    "    \n",
    "    with open(path, 'w') as f:\n",
    "        f.write(script)\n"
   ]
  },
  {
   "cell_type": "code",
   "execution_count": null,
   "id": "f9d65382",
   "metadata": {},
   "outputs": [],
   "source": [
    "def build_model(study_name):\n",
    "    file = f\"../optuna-storage/optuna_storage_{study_name}.sqlite\"\n",
    "    storage = f\"sqlite:///{os.path.abspath(file)}\"\n",
    "    \n",
    "    try:\n",
    "        loaded_study = optuna.load_study(\n",
    "            study_name=study_name, \n",
    "            storage=storage\n",
    "        )\n",
    "    except Exception as e:\n",
    "        print(f\"Could not open study {study_name} from storage {storage}: {e}\")\n",
    "        return collections.defaultdict(lambda: np.nan)  # All scores NaN.\n",
    "\n",
    "    buildconfig = buildconfig_best(loaded_study)\n",
    "    \n",
    "    # Change training set path.\n",
    "    buildconfig.data.training_dataset_file = \"\".join([\"../\", buildconfig.data.training_dataset_file])\n",
    "    \n",
    "    # Save build config.\n",
    "    with open(f\"../fill-gaps-configs/{study_name}-fill-gaps.json\", 'w') as f:\n",
    "        json.dump(json.loads(buildconfig.json()), f, indent=4)\n",
    "    \n",
    "    # Save shell script for SLURM submission.\n",
    "    generate_sh(study_name)\n"
   ]
  },
  {
   "cell_type": "code",
   "execution_count": null,
   "id": "e46d59f3",
   "metadata": {},
   "outputs": [],
   "source": [
    "build_model(\"MMP_data_Solubility_set3_xgboost\")\n",
    "build_model(\"MMP_data_logD_set3_xgboost\")\n",
    "build_model(\"MMP_data_logD_set3_RF\")\n",
    "\n",
    "build_model(\"MMP_data_logD_set1_xgboost\")\n",
    "build_model(\"MMP_data_Clearance_set4_SVR\")\n",
    "build_model(\"MMP_data_Clearance_set3_xgboost\")\n",
    "build_model(\"MMP_data_Clearance_set1_xgboost\")\n",
    "build_model(\"MMP_data_Solubility_set1_xgboost\")\n",
    "build_model(\"MMP_data_Clearance_set3_RF\")\n",
    "build_model(\"MMP_data_Clearance_set1_RF\")\n",
    "build_model(\"MMP_data_Solubility_set3_RF\")\n",
    "build_model(\"MMP_data_Solubility_set1_RF\")\n",
    "build_model(\"MMP_data_logD_set1_RF\")\n",
    "build_model(\"MMP_data_logD_set4_SVR\")\n",
    "build_model(\"MMP_data_Solubility_set4_SVR\")\n",
    "\n",
    "build_model(\"MMP_downsampled-10-percent_logD_set3_SVR\")\n",
    "build_model(\"MMP_downsampled-10-percent_Solubility_set3_SVR\")\n",
    "build_model(\"MMP_downsampled-10-percent_logD_set1_SVR\")\n",
    "build_model(\"MMP_downsampled-10-percent_Solubility_set1_SVR\")"
   ]
  }
 ],
 "metadata": {
  "kernelspec": {
   "display_name": "Python 3 (ipykernel)",
   "language": "python",
   "name": "python3"
  },
  "language_info": {
   "codemirror_mode": {
    "name": "ipython",
    "version": 3
   },
   "file_extension": ".py",
   "mimetype": "text/x-python",
   "name": "python",
   "nbconvert_exporter": "python",
   "pygments_lexer": "ipython3",
   "version": "3.7.12"
  }
 },
 "nbformat": 4,
 "nbformat_minor": 5
}
